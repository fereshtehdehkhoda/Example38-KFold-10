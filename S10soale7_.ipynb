{
  "cells": [
    {
      "cell_type": "markdown",
      "metadata": {
        "id": "view-in-github",
        "colab_type": "text"
      },
      "source": [
        "<a href=\"https://colab.research.google.com/github/fereshtehdehkhoda/Example38-KFold-10/blob/main/S10soale7_.ipynb\" target=\"_parent\"><img src=\"https://colab.research.google.com/assets/colab-badge.svg\" alt=\"Open In Colab\"/></a>"
      ]
    },
    {
      "cell_type": "code",
      "execution_count": null,
      "id": "6f226dc4-2ee3-4f6f-b904-3cd2e69a69c3",
      "metadata": {
        "id": "6f226dc4-2ee3-4f6f-b904-3cd2e69a69c3"
      },
      "outputs": [],
      "source": [
        "import pandas as pd\n",
        "import numpy as np\n",
        "data=pd.read_csv(\"hw10_train.csv\")\n"
      ]
    },
    {
      "cell_type": "code",
      "execution_count": null,
      "id": "45df88f6-9c21-42f7-9102-132492ce3045",
      "metadata": {
        "id": "45df88f6-9c21-42f7-9102-132492ce3045",
        "outputId": "4954a7d4-2905-445f-f16b-b52c452dcb75"
      },
      "outputs": [
        {
          "data": {
            "text/plain": [
              "array([0., 0., 0., 0., 0., 0., 0., 0., 0., 0., 0.])"
            ]
          },
          "execution_count": 3,
          "metadata": {},
          "output_type": "execute_result"
        }
      ],
      "source": [
        "k_grid=[1, 5, 10, 15, 20, 25, 30, 35, 40, 45, 50]\n",
        "cv_error=np.zeros(shape=len(k_grid))\n",
        "cv_error"
      ]
    },
    {
      "cell_type": "code",
      "execution_count": null,
      "id": "d3cd715a-1ca5-43cb-959a-3a519b4ac927",
      "metadata": {
        "id": "d3cd715a-1ca5-43cb-959a-3a519b4ac927"
      },
      "outputs": [],
      "source": [
        "y_train=data[\"PE\"]"
      ]
    },
    {
      "cell_type": "code",
      "execution_count": null,
      "id": "b0de7691-566a-4c57-9cca-1fea6487b1a8",
      "metadata": {
        "id": "b0de7691-566a-4c57-9cca-1fea6487b1a8"
      },
      "outputs": [],
      "source": [
        "features=[\"AT\",\"V\",\"AP\",\"RH\"]\n",
        "X_train=data[features]"
      ]
    },
    {
      "cell_type": "code",
      "execution_count": null,
      "id": "77981e76-37ff-4702-918b-4dc35f832206",
      "metadata": {
        "id": "77981e76-37ff-4702-918b-4dc35f832206"
      },
      "outputs": [],
      "source": [
        "from sklearn.model_selection import cross_val_score\n",
        "from sklearn.neighbors import KNeighborsRegressor\n",
        "\n",
        "for i in range(len(k_grid)):\n",
        "    knn=KNeighborsRegressor(n_neighbors=k_grid[i],\n",
        "                           weights=\"uniform\",\n",
        "                           algorithm=\"brute\",\n",
        "                           metric=\"minkowski\",\n",
        "                           p=2,\n",
        "                           n_jobs=-1)\n",
        "    scores=cross_val_score(estimator=knn,\n",
        "                          X=X_train,\n",
        "                          y=y_train,\n",
        "                          scoring=\"neg_root_mean_squared_error\",\n",
        "                          cv=10,\n",
        "                          n_jobs=-1)\n",
        "    cv_error[i]=scores.mean()"
      ]
    },
    {
      "cell_type": "code",
      "execution_count": null,
      "id": "8304317d-a3cd-4e9c-adef-1302847daa79",
      "metadata": {
        "id": "8304317d-a3cd-4e9c-adef-1302847daa79",
        "outputId": "7508c45d-67d0-4be6-a49a-c92a6b85e6d5"
      },
      "outputs": [
        {
          "data": {
            "text/plain": [
              "array([-4.54023433, -4.00894042, -4.0955348 , -4.17359715, -4.25269316,\n",
              "       -4.29896169, -4.34983909, -4.38882987, -4.42655202, -4.45653783,\n",
              "       -4.49270263])"
            ]
          },
          "execution_count": 11,
          "metadata": {},
          "output_type": "execute_result"
        }
      ],
      "source": [
        "cv_error"
      ]
    },
    {
      "cell_type": "code",
      "execution_count": null,
      "id": "418a3395-79bd-4dd3-9970-0c2aaa914247",
      "metadata": {
        "id": "418a3395-79bd-4dd3-9970-0c2aaa914247",
        "outputId": "2b6ec388-4dee-414a-aa04-b9a83067261f"
      },
      "outputs": [
        {
          "data": {
            "text/plain": [
              "5"
            ]
          },
          "execution_count": 13,
          "metadata": {},
          "output_type": "execute_result"
        }
      ],
      "source": [
        "k_grid[np.argmax(cv_error)]"
      ]
    },
    {
      "cell_type": "code",
      "execution_count": null,
      "id": "c4c5fa32-6121-4f9f-9069-ecb4140d03b6",
      "metadata": {
        "id": "c4c5fa32-6121-4f9f-9069-ecb4140d03b6"
      },
      "outputs": [],
      "source": []
    }
  ],
  "metadata": {
    "kernelspec": {
      "display_name": "Python 3 (ipykernel)",
      "language": "python",
      "name": "python3"
    },
    "language_info": {
      "codemirror_mode": {
        "name": "ipython",
        "version": 3
      },
      "file_extension": ".py",
      "mimetype": "text/x-python",
      "name": "python",
      "nbconvert_exporter": "python",
      "pygments_lexer": "ipython3",
      "version": "3.12.4"
    },
    "colab": {
      "provenance": [],
      "include_colab_link": true
    }
  },
  "nbformat": 4,
  "nbformat_minor": 5
}